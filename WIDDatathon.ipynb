{
 "cells": [
  {
   "cell_type": "code",
   "execution_count": 1,
   "metadata": {},
   "outputs": [],
   "source": [
    "import os\n",
    "import pandas as pd\n",
    "import numpy as py\n",
    "from pandas_profiling import ProfileReport\n",
    "import seaborn as sns"
   ]
  },
  {
   "cell_type": "code",
   "execution_count": 2,
   "metadata": {},
   "outputs": [
    {
     "data": {
      "text/html": [
       "<div>\n",
       "<style scoped>\n",
       "    .dataframe tbody tr th:only-of-type {\n",
       "        vertical-align: middle;\n",
       "    }\n",
       "\n",
       "    .dataframe tbody tr th {\n",
       "        vertical-align: top;\n",
       "    }\n",
       "\n",
       "    .dataframe thead th {\n",
       "        text-align: right;\n",
       "    }\n",
       "</style>\n",
       "<table border=\"1\" class=\"dataframe\">\n",
       "  <thead>\n",
       "    <tr style=\"text-align: right;\">\n",
       "      <th></th>\n",
       "      <th>Date</th>\n",
       "      <th>Continent</th>\n",
       "      <th>Countries</th>\n",
       "      <th>New_Cases</th>\n",
       "      <th>New_Deaths</th>\n",
       "      <th>Total_Cases</th>\n",
       "      <th>Total_Deaths</th>\n",
       "      <th>Weekly_Cases</th>\n",
       "      <th>Weekly_Deaths</th>\n",
       "      <th>Population_Density</th>\n",
       "      <th>...</th>\n",
       "      <th>Diabetes Prevelance % of Population 20-79</th>\n",
       "      <th>Labour Force Total</th>\n",
       "      <th>Population</th>\n",
       "      <th>Population Aged 65 and above % of Total</th>\n",
       "      <th>Urban Population</th>\n",
       "      <th>Death Rate Per 1000 (2017)</th>\n",
       "      <th>PM2.5 air pollution, mean annual exposure (micrograms per cubic meter) (2017)</th>\n",
       "      <th>PM2.5 air pollution, population exposed to levels exceeding WHO guideline value (% of total) (2017)</th>\n",
       "      <th>Hospital Beds Year</th>\n",
       "      <th>Hospital Beds Per 1000 People</th>\n",
       "    </tr>\n",
       "  </thead>\n",
       "  <tbody>\n",
       "    <tr>\n",
       "      <th>0</th>\n",
       "      <td>2019-12-31</td>\n",
       "      <td>Asia</td>\n",
       "      <td>Afghanistan</td>\n",
       "      <td>0.0</td>\n",
       "      <td>0.0</td>\n",
       "      <td>0.0</td>\n",
       "      <td>0.0</td>\n",
       "      <td>NaN</td>\n",
       "      <td>NaN</td>\n",
       "      <td>59.6</td>\n",
       "      <td>...</td>\n",
       "      <td>9.2</td>\n",
       "      <td>10699797.0</td>\n",
       "      <td>38041754.0</td>\n",
       "      <td>2.615794</td>\n",
       "      <td>9797273.0</td>\n",
       "      <td>6.575</td>\n",
       "      <td>56.910808</td>\n",
       "      <td>100.0</td>\n",
       "      <td>2015.0</td>\n",
       "      <td>0.5</td>\n",
       "    </tr>\n",
       "    <tr>\n",
       "      <th>1</th>\n",
       "      <td>2020-01-01</td>\n",
       "      <td>Asia</td>\n",
       "      <td>Afghanistan</td>\n",
       "      <td>0.0</td>\n",
       "      <td>0.0</td>\n",
       "      <td>0.0</td>\n",
       "      <td>0.0</td>\n",
       "      <td>NaN</td>\n",
       "      <td>NaN</td>\n",
       "      <td>59.6</td>\n",
       "      <td>...</td>\n",
       "      <td>9.2</td>\n",
       "      <td>10699797.0</td>\n",
       "      <td>38041754.0</td>\n",
       "      <td>2.615794</td>\n",
       "      <td>9797273.0</td>\n",
       "      <td>6.575</td>\n",
       "      <td>56.910808</td>\n",
       "      <td>100.0</td>\n",
       "      <td>2015.0</td>\n",
       "      <td>0.5</td>\n",
       "    </tr>\n",
       "    <tr>\n",
       "      <th>2</th>\n",
       "      <td>2020-01-02</td>\n",
       "      <td>Asia</td>\n",
       "      <td>Afghanistan</td>\n",
       "      <td>0.0</td>\n",
       "      <td>0.0</td>\n",
       "      <td>0.0</td>\n",
       "      <td>0.0</td>\n",
       "      <td>NaN</td>\n",
       "      <td>NaN</td>\n",
       "      <td>59.6</td>\n",
       "      <td>...</td>\n",
       "      <td>9.2</td>\n",
       "      <td>10699797.0</td>\n",
       "      <td>38041754.0</td>\n",
       "      <td>2.615794</td>\n",
       "      <td>9797273.0</td>\n",
       "      <td>6.575</td>\n",
       "      <td>56.910808</td>\n",
       "      <td>100.0</td>\n",
       "      <td>2015.0</td>\n",
       "      <td>0.5</td>\n",
       "    </tr>\n",
       "    <tr>\n",
       "      <th>3</th>\n",
       "      <td>2020-01-03</td>\n",
       "      <td>Asia</td>\n",
       "      <td>Afghanistan</td>\n",
       "      <td>0.0</td>\n",
       "      <td>0.0</td>\n",
       "      <td>0.0</td>\n",
       "      <td>0.0</td>\n",
       "      <td>NaN</td>\n",
       "      <td>NaN</td>\n",
       "      <td>59.6</td>\n",
       "      <td>...</td>\n",
       "      <td>9.2</td>\n",
       "      <td>10699797.0</td>\n",
       "      <td>38041754.0</td>\n",
       "      <td>2.615794</td>\n",
       "      <td>9797273.0</td>\n",
       "      <td>6.575</td>\n",
       "      <td>56.910808</td>\n",
       "      <td>100.0</td>\n",
       "      <td>2015.0</td>\n",
       "      <td>0.5</td>\n",
       "    </tr>\n",
       "    <tr>\n",
       "      <th>4</th>\n",
       "      <td>2020-01-04</td>\n",
       "      <td>Asia</td>\n",
       "      <td>Afghanistan</td>\n",
       "      <td>0.0</td>\n",
       "      <td>0.0</td>\n",
       "      <td>0.0</td>\n",
       "      <td>0.0</td>\n",
       "      <td>NaN</td>\n",
       "      <td>NaN</td>\n",
       "      <td>59.6</td>\n",
       "      <td>...</td>\n",
       "      <td>9.2</td>\n",
       "      <td>10699797.0</td>\n",
       "      <td>38041754.0</td>\n",
       "      <td>2.615794</td>\n",
       "      <td>9797273.0</td>\n",
       "      <td>6.575</td>\n",
       "      <td>56.910808</td>\n",
       "      <td>100.0</td>\n",
       "      <td>2015.0</td>\n",
       "      <td>0.5</td>\n",
       "    </tr>\n",
       "  </tbody>\n",
       "</table>\n",
       "<p>5 rows × 37 columns</p>\n",
       "</div>"
      ],
      "text/plain": [
       "         Date Continent    Countries  New_Cases  New_Deaths  Total_Cases  \\\n",
       "0  2019-12-31      Asia  Afghanistan        0.0         0.0          0.0   \n",
       "1  2020-01-01      Asia  Afghanistan        0.0         0.0          0.0   \n",
       "2  2020-01-02      Asia  Afghanistan        0.0         0.0          0.0   \n",
       "3  2020-01-03      Asia  Afghanistan        0.0         0.0          0.0   \n",
       "4  2020-01-04      Asia  Afghanistan        0.0         0.0          0.0   \n",
       "\n",
       "   Total_Deaths  Weekly_Cases  Weekly_Deaths  Population_Density  ...  \\\n",
       "0           0.0           NaN            NaN                59.6  ...   \n",
       "1           0.0           NaN            NaN                59.6  ...   \n",
       "2           0.0           NaN            NaN                59.6  ...   \n",
       "3           0.0           NaN            NaN                59.6  ...   \n",
       "4           0.0           NaN            NaN                59.6  ...   \n",
       "\n",
       "   Diabetes Prevelance % of Population 20-79  Labour Force Total  Population  \\\n",
       "0                                        9.2          10699797.0  38041754.0   \n",
       "1                                        9.2          10699797.0  38041754.0   \n",
       "2                                        9.2          10699797.0  38041754.0   \n",
       "3                                        9.2          10699797.0  38041754.0   \n",
       "4                                        9.2          10699797.0  38041754.0   \n",
       "\n",
       "   Population Aged 65 and above % of Total  Urban Population  \\\n",
       "0                                 2.615794         9797273.0   \n",
       "1                                 2.615794         9797273.0   \n",
       "2                                 2.615794         9797273.0   \n",
       "3                                 2.615794         9797273.0   \n",
       "4                                 2.615794         9797273.0   \n",
       "\n",
       "   Death Rate Per 1000 (2017)  \\\n",
       "0                       6.575   \n",
       "1                       6.575   \n",
       "2                       6.575   \n",
       "3                       6.575   \n",
       "4                       6.575   \n",
       "\n",
       "   PM2.5 air pollution, mean annual exposure (micrograms per cubic meter) (2017)  \\\n",
       "0                                          56.910808                               \n",
       "1                                          56.910808                               \n",
       "2                                          56.910808                               \n",
       "3                                          56.910808                               \n",
       "4                                          56.910808                               \n",
       "\n",
       "   PM2.5 air pollution, population exposed to levels exceeding WHO guideline value (% of total) (2017)  \\\n",
       "0                                              100.0                                                     \n",
       "1                                              100.0                                                     \n",
       "2                                              100.0                                                     \n",
       "3                                              100.0                                                     \n",
       "4                                              100.0                                                     \n",
       "\n",
       "   Hospital Beds Year  Hospital Beds Per 1000 People  \n",
       "0              2015.0                            0.5  \n",
       "1              2015.0                            0.5  \n",
       "2              2015.0                            0.5  \n",
       "3              2015.0                            0.5  \n",
       "4              2015.0                            0.5  \n",
       "\n",
       "[5 rows x 37 columns]"
      ]
     },
     "execution_count": 2,
     "metadata": {},
     "output_type": "execute_result"
    }
   ],
   "source": [
    "data = pd.read_csv(os.getcwd()+r\"/COVID19 Hackathon Dataset.csv\")\n",
    "data.head(5)"
   ]
  },
  {
   "cell_type": "code",
   "execution_count": 5,
   "metadata": {},
   "outputs": [
    {
     "data": {
      "text/plain": [
       "(41782, 37)"
      ]
     },
     "execution_count": 5,
     "metadata": {},
     "output_type": "execute_result"
    }
   ],
   "source": [
    "data.shape"
   ]
  },
  {
   "cell_type": "code",
   "execution_count": 3,
   "metadata": {},
   "outputs": [
    {
     "data": {
      "application/vnd.jupyter.widget-view+json": {
       "model_id": "69b2cb9b76fa4085b2c3fe97f0bd72b4",
       "version_major": 2,
       "version_minor": 0
      },
      "text/plain": [
       "HBox(children=(FloatProgress(value=0.0, description='Summarize dataset', max=51.0, style=ProgressStyle(descrip…"
      ]
     },
     "metadata": {},
     "output_type": "display_data"
    },
    {
     "name": "stdout",
     "output_type": "stream",
     "text": [
      "\n"
     ]
    },
    {
     "data": {
      "application/vnd.jupyter.widget-view+json": {
       "model_id": "93d20409547144aaa07441d81ef27fe3",
       "version_major": 2,
       "version_minor": 0
      },
      "text/plain": [
       "HBox(children=(FloatProgress(value=0.0, description='Generate report structure', max=1.0, style=ProgressStyle(…"
      ]
     },
     "metadata": {},
     "output_type": "display_data"
    },
    {
     "name": "stdout",
     "output_type": "stream",
     "text": [
      "\n"
     ]
    },
    {
     "data": {
      "application/vnd.jupyter.widget-view+json": {
       "model_id": "2324d983877c41b9ba67dd3f99c6d949",
       "version_major": 2,
       "version_minor": 0
      },
      "text/plain": [
       "HBox(children=(FloatProgress(value=0.0, description='Render HTML', max=1.0, style=ProgressStyle(description_wi…"
      ]
     },
     "metadata": {},
     "output_type": "display_data"
    },
    {
     "name": "stdout",
     "output_type": "stream",
     "text": [
      "\n"
     ]
    },
    {
     "data": {
      "application/vnd.jupyter.widget-view+json": {
       "model_id": "c758ad4e620a4ad390171d12685b3193",
       "version_major": 2,
       "version_minor": 0
      },
      "text/plain": [
       "HBox(children=(FloatProgress(value=0.0, description='Export report to file', max=1.0, style=ProgressStyle(desc…"
      ]
     },
     "metadata": {},
     "output_type": "display_data"
    },
    {
     "name": "stdout",
     "output_type": "stream",
     "text": [
      "\n"
     ]
    }
   ],
   "source": [
    "profile = ProfileReport(data, title='Covid Profiling Report', explorative=True)\n",
    "profile.to_file(\"profiling_report.html\")"
   ]
  }
 ],
 "metadata": {
  "kernelspec": {
   "display_name": "Python 3",
   "language": "python",
   "name": "python3"
  },
  "language_info": {
   "codemirror_mode": {
    "name": "ipython",
    "version": 3
   },
   "file_extension": ".py",
   "mimetype": "text/x-python",
   "name": "python",
   "nbconvert_exporter": "python",
   "pygments_lexer": "ipython3",
   "version": "3.7.7"
  }
 },
 "nbformat": 4,
 "nbformat_minor": 2
}
